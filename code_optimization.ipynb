{
 "cells": [
  {
   "attachments": {},
   "cell_type": "markdown",
   "metadata": {},
   "source": [
    "In this page we perform all tests for code optimizations:"
   ]
  },
  {
   "cell_type": "code",
   "execution_count": 1,
   "metadata": {},
   "outputs": [
    {
     "name": "stdout",
     "output_type": "stream",
     "text": [
      "CPU times: user 5 µs, sys: 0 ns, total: 5 µs\n",
      "Wall time: 7.39 µs\n",
      "CPU times: user 3 µs, sys: 0 ns, total: 3 µs\n",
      "Wall time: 5.01 µs\n",
      "CPU times: user 2 µs, sys: 0 ns, total: 2 µs\n",
      "Wall time: 3.58 µs\n"
     ]
    }
   ],
   "source": [
    "list1 = [1, 2, 3, 4]\n",
    "list2 = [5, 6, 7, 8]\n",
    "%time list1.extend(list2)\n",
    "%time list1 += list2\n",
    "%time result = [*list1, list2]"
   ]
  },
  {
   "cell_type": "code",
   "execution_count": 2,
   "metadata": {},
   "outputs": [
    {
     "name": "stdout",
     "output_type": "stream",
     "text": [
      "CPU times: user 70 µs, sys: 52 µs, total: 122 µs\n",
      "Wall time: 125 µs\n",
      "CPU times: user 265 µs, sys: 199 µs, total: 464 µs\n",
      "Wall time: 442 µs\n"
     ]
    }
   ],
   "source": [
    "import csv\n",
    "import pandas as pd\n",
    "\n",
    "salary = [{'Name':'Alice', 'Job':'Data Scientist', 'Salary':122000},\n",
    "          {'Name':'Bob', 'Job':'Engineer', 'Salary':77000},\n",
    "          {'Name':'Carl', 'Job':'Manager', 'Salary':119000}]\n",
    "\n",
    "def tt(data):\n",
    "    with open('my_file.csv', 'w', newline='') as f:\n",
    "        writer = csv.DictWriter(f, fieldnames=data[0].keys())\n",
    "        writer.writeheader()\n",
    "        writer.writerows(data)\n",
    "    \n",
    "\n",
    "# Method 3\n",
    "def ss(salary):\n",
    "    with open('my_file.csv','a') as f:\n",
    "        f.write(','.join(salary[0].keys()))\n",
    "        f.write('')\n",
    "        for row in salary:\n",
    "            f.write(','.join(str(x) for x in row.values()))\n",
    "            f.write('')\n",
    "%time ss(salary)\n",
    "\n",
    "%time tt(salary)"
   ]
  },
  {
   "cell_type": "code",
   "execution_count": 3,
   "metadata": {},
   "outputs": [
    {
     "name": "stdout",
     "output_type": "stream",
     "text": [
      "CPU times: user 3.65 ms, sys: 0 ns, total: 3.65 ms\n",
      "Wall time: 4.88 ms\n",
      "CPU times: user 5 µs, sys: 0 ns, total: 5 µs\n",
      "Wall time: 8.34 µs\n",
      "CPU times: user 3.92 ms, sys: 0 ns, total: 3.92 ms\n",
      "Wall time: 5.99 ms\n",
      "CPU times: user 9 µs, sys: 0 ns, total: 9 µs\n",
      "Wall time: 12.2 µs\n"
     ]
    }
   ],
   "source": [
    "import pandas as pd\n",
    "%time a= pd.DataFrame()\n",
    "%time c={}\n",
    "\n",
    "%time a['time']=[1]\n",
    "%time c['time']=1"
   ]
  },
  {
   "cell_type": "code",
   "execution_count": 17,
   "metadata": {},
   "outputs": [
    {
     "name": "stdout",
     "output_type": "stream",
     "text": [
      "CPU times: user 1.47 ms, sys: 314 µs, total: 1.79 ms\n",
      "Wall time: 1.45 ms\n",
      "CPU times: user 841 µs, sys: 179 µs, total: 1.02 ms\n",
      "Wall time: 1 ms\n",
      "CPU times: user 34 µs, sys: 0 ns, total: 34 µs\n",
      "Wall time: 36.2 µs\n",
      "CPU times: user 10 µs, sys: 0 ns, total: 10 µs\n",
      "Wall time: 12.9 µs\n"
     ]
    },
    {
     "data": {
      "text/plain": [
       "958"
      ]
     },
     "execution_count": 17,
     "metadata": {},
     "output_type": "execute_result"
    }
   ],
   "source": [
    "from scapy.all import Dot15d4FCS, Dot15d4\n",
    "import numpy as np\n",
    "\n",
    "hex_pck_zb_data = \"61881fbe0300004df5091a00004df51efc382fb940005f1500f30ae306018817002802702100f30ae3060188170000dbf72bb7994bd906\"\n",
    "\n",
    "%time packet = Dot15d4FCS(bytes.fromhex(hex_pck_zb_data))\n",
    "\n",
    "%time packet = Dot15d4(bytes.fromhex(hex_pck_zb_data))\n",
    "\n",
    "%time getattr(packet, 'dest_panid')\n",
    "\n",
    "%time packet.dest_panid\n"
   ]
  }
 ],
 "metadata": {
  "kernelspec": {
   "display_name": "venv",
   "language": "python",
   "name": "python3"
  },
  "language_info": {
   "codemirror_mode": {
    "name": "ipython",
    "version": 3
   },
   "file_extension": ".py",
   "mimetype": "text/x-python",
   "name": "python",
   "nbconvert_exporter": "python",
   "pygments_lexer": "ipython3",
   "version": "3.10.6 (main, Nov 14 2022, 16:10:14) [GCC 11.3.0]"
  },
  "orig_nbformat": 4,
  "vscode": {
   "interpreter": {
    "hash": "8e553c931aa1856fc298146f0f77230a22ff29bce593231a36e284a144d89e9e"
   }
  }
 },
 "nbformat": 4,
 "nbformat_minor": 2
}
